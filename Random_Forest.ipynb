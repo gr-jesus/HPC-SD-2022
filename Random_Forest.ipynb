{
 "cells": [
  {
   "cell_type": "markdown",
   "id": "5c5876cd-9874-4cc5-a277-c4281f18873f",
   "metadata": {},
   "source": [
    "# Paralelización de la evaluación de los parámetros para un clasificador tipo Random Forest"
   ]
  },
  {
   "cell_type": "markdown",
   "id": "6935f206-e376-4462-b114-2d12b81c3f1d",
   "metadata": {},
   "source": [
    "Este ejercicio se trata de evaluar un conjunto de hiperparámetros para un clasiicador tipo Random Forest.\n",
    "\n",
    "Los hiperparámetros que se se van a variar son:\n",
    "- El número de árboles (10-210) \n",
    "- El criterio para realizar la partición del conjunto de datos (entropy, gini)\n"
   ]
  },
  {
   "cell_type": "code",
   "execution_count": 1,
   "id": "7eb0f2e4-a759-4886-9264-7337820f88cc",
   "metadata": {},
   "outputs": [],
   "source": [
    "# Import the necessary dependencies\n",
    "import multiprocessing\n",
    "import time\n",
    "import numpy as np\n",
    "import matplotlib.pyplot as plt\n",
    "from sklearn import datasets\n",
    "from sklearn.ensemble import RandomForestClassifier\n",
    "from sklearn.model_selection import train_test_split\n",
    "from sklearn.metrics import accuracy_score"
   ]
  },
  {
   "cell_type": "code",
   "execution_count": 2,
   "id": "d2f1a5f5-c692-473d-b875-540b9332391b",
   "metadata": {},
   "outputs": [
    {
     "name": "stdout",
     "output_type": "stream",
     "text": [
      "Cores in the computer: 4\n"
     ]
    }
   ],
   "source": [
    "# We can see the number of cores in the computer \n",
    "cores = multiprocessing.cpu_count()\n",
    "print('Cores in the computer:', cores)"
   ]
  },
  {
   "cell_type": "code",
   "execution_count": 3,
   "id": "7a7c8774-d7eb-4df7-abc0-2ffe70e8c506",
   "metadata": {},
   "outputs": [],
   "source": [
    "# We create a list with the parameters to be evaluated \n",
    "hyperparameters = []\n",
    "for criterion in ['gini','entropy']:\n",
    "    for trees in range(10, 210):\n",
    "        hyperparameters.append([trees, criterion])"
   ]
  },
  {
   "cell_type": "code",
   "execution_count": 4,
   "id": "09cb7804-beab-4098-b723-136d3429ca4c",
   "metadata": {},
   "outputs": [
    {
     "name": "stdout",
     "output_type": "stream",
     "text": [
      "The dataset will be splitted in 80% for the training and 20% for the testing stages\n"
     ]
    },
    {
     "data": {
      "image/png": "[encoded data removed]",
      "text/plain": [
       "<Figure size 432x288 with 1 Axes>"
      ]
     },
     "metadata": {},
     "output_type": "display_data"
    }
   ],
   "source": [
    "print('The dataset will be splitted in 80% for the training and 20% for the testing stages')\n",
    "plt.pie(np.array([80,20]), labels=['Train', 'Test'])\n",
    "plt.show()"
   ]
  },
  {
   "cell_type": "code",
   "execution_count": 5,
   "id": "2054d1e3-e78c-4a79-bfe7-72722c4807fc",
   "metadata": {},
   "outputs": [],
   "source": [
    "# We load the dataset, here we use 80-20 for training and testing splits\n",
    "iris=datasets.load_iris()\n",
    "X=iris.data\n",
    "y=iris.target\n",
    "# se particiona el conjunto en 80-20 para la evaluación\n",
    "X_train, X_test, y_train, y_test = train_test_split(X, y,\n",
    "                                                    stratify=y, \n",
    "                                                    test_size=0.20)"
   ]
  },
  {
   "cell_type": "code",
   "execution_count": 6,
   "id": "8282b77a-943b-4dd4-b096-58043c506cb0",
   "metadata": {},
   "outputs": [],
   "source": [
    "def evaluate_hyperparameters(trees, criterion):\n",
    "    \"\"\"\n",
    "    Evaluate hyperparameters of a random forest\n",
    "    Args:\n",
    "    trees: number of trees in the random forest\n",
    "    criterion: criterion for the dataset partition\n",
    "    \"\"\"\n",
    "    clf=RandomForestClassifier(n_estimators=int(trees), criterion=criterion)\n",
    "    clf.fit(X_train, y_train)\n",
    "    y_pred=clf.predict(X_test)"
   ]
  },
  {
   "cell_type": "code",
   "execution_count": 7,
   "id": "5d1a17a8-1093-4631-947c-6e981a40db4c",
   "metadata": {},
   "outputs": [],
   "source": [
    "def evaluate_set(hyperparameter_set):\n",
    "    \"\"\"\n",
    "    Evaluate a set of hyperparameters\n",
    "    Args:\n",
    "    hyperparameter_set: a list with the set of hyperparameters to be evaluated\n",
    "    \"\"\"\n",
    "    for s in hyperparameter_set:\n",
    "        evaluate_hyperparameters(s[0], s[1])  "
   ]
  },
  {
   "cell_type": "code",
   "execution_count": 8,
   "id": "b610dc3e-e920-48d6-b3c2-11be5baf4d0d",
   "metadata": {},
   "outputs": [
    {
     "name": "stdout",
     "output_type": "stream",
     "text": [
      "Program finished in 63.0739398780006 seconds\n"
     ]
    }
   ],
   "source": [
    "start_time = time.perf_counter()\n",
    "evaluate_set(hyperparameters)\n",
    "finish_time = time.perf_counter()\n",
    "print(f\"Program finished in {finish_time-start_time} seconds\")"
   ]
  },
  {
   "cell_type": "code",
   "execution_count": 9,
   "id": "4e15260f-b8d5-4406-b083-a396618df423",
   "metadata": {},
   "outputs": [
    {
     "name": "stdout",
     "output_type": "stream",
     "text": [
      "Program finished in 35.59445258899905 seconds\n"
     ]
    }
   ],
   "source": [
    "# Now we will evaluated with more threads\n",
    "threads=[]\n",
    "N_THREADS=2\n",
    "splits=np.split(np.array(hyperparameters), N_THREADS)\n",
    "for i in range(N_THREADS):\n",
    "    threads.append(multiprocessing.Process(target=evaluate_set, args=[splits[i]]))\n",
    "\n",
    "\n",
    "start_time = time.perf_counter()\n",
    "for thread in threads:\n",
    "    thread.start()\n",
    "    \n",
    "for thread in threads:\n",
    "    thread.join()\n",
    "            \n",
    "finish_time = time.perf_counter()\n",
    "print(f\"Program finished in {finish_time-start_time} seconds\")"
   ]
  },
  {
   "cell_type": "code",
   "execution_count": null,
   "id": "62270a59-caf5-4c5c-b2a2-4c9836922382",
   "metadata": {},
   "outputs": [],
   "source": []
  }
 ],
 "metadata": {
  "kernelspec": {
   "display_name": "Python 3 (ipykernel)",
   "language": "python",
   "name": "python3"
  },
  "language_info": {
   "codemirror_mode": {
    "name": "ipython",
    "version": 3
   },
   "file_extension": ".py",
   "mimetype": "text/x-python",
   "name": "python",
   "nbconvert_exporter": "python",
   "pygments_lexer": "ipython3",
   "version": "3.9.5"
  }
 },
 "nbformat": 4,
 "nbformat_minor": 5
}
