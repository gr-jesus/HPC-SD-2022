{
 "cells": [
  {
   "cell_type": "markdown",
   "id": "86ebd359-8a58-41dd-971e-dd22137369d1",
   "metadata": {},
   "source": [
    "# Paralelización de la evaluación de los parámetros para un clasificador tipo Random Forest utilizando exclusión mutua"
   ]
  },
  {
   "cell_type": "markdown",
   "id": "c22b3fd3-a23a-4557-81a8-0f4d6b73d1d7",
   "metadata": {},
   "source": [
    "Este ejercicio se trata de evaluar un conjunto de hiperparámetros para un clasiicador tipo Random Forest.\n",
    "\n",
    "Los hiperparámetros que se se van a variar son:\n",
    "- El número de árboles (10-210) \n",
    "- El criterio para realizar la partición del conjunto de datos (entropy, gini)"
   ]
  },
  {
   "cell_type": "code",
   "execution_count": 2,
   "id": "3b80e9fa-4ee8-4380-ad93-ee5ce76d6f29",
   "metadata": {},
   "outputs": [],
   "source": [
    "# Se importan las bibliotecas necesarias\n",
    "import time\n",
    "import numpy as np\n",
    "import matplotlib.pyplot as plt\n",
    "from multiprocessing import Value, Lock, Process, cpu_count\n",
    "from sklearn import datasets\n",
    "from sklearn.ensemble import RandomForestClassifier\n",
    "from sklearn.model_selection import train_test_split\n",
    "from sklearn.metrics import accuracy_score"
   ]
  },
  {
   "cell_type": "code",
   "execution_count": 3,
   "id": "853709f0-9009-4f11-ab13-33834ee19dd2",
   "metadata": {},
   "outputs": [
    {
     "name": "stdout",
     "output_type": "stream",
     "text": [
      "Cores en la computadora: 4\n"
     ]
    }
   ],
   "source": [
    "# Imprimir cuántos cores tiene la computadora\n",
    "cores = cpu_count()\n",
    "print('Cores en la computadora:', cores)"
   ]
  },
  {
   "cell_type": "code",
   "execution_count": 4,
   "id": "5581f0d1-0f03-412e-9f92-5bb97d8c42c0",
   "metadata": {},
   "outputs": [],
   "source": [
    "# Se crea una lista con los hiperparametros a evaluar\n",
    "hyperparameters = []\n",
    "# Versión 1\n",
    "#for criterion in ['gini','entropy']:\n",
    "#    for trees in range(10, 210):\n",
    "#        hyperparameters.append([trees, criterion])\n",
    "# Versión 2\n",
    "for trees in range(10, 210):\n",
    "    for criterion in ['gini','entropy']:\n",
    "        hyperparameters.append([trees, criterion])"
   ]
  },
  {
   "cell_type": "code",
   "execution_count": 5,
   "id": "988db96c-086e-4a90-bead-41522756e8bc",
   "metadata": {},
   "outputs": [],
   "source": [
    "# Se carga el conjunto de datos\n",
    "iris=datasets.load_iris()\n",
    "X=iris.data\n",
    "y=iris.target\n",
    "# Se particiona el conjunto en 80-20 para la evaluación\n",
    "X_train, X_test, y_train, y_test = train_test_split(X, y,\n",
    "                                                    stratify=y, \n",
    "                                                    test_size=0.20)"
   ]
  },
  {
   "cell_type": "markdown",
   "id": "742c4c63-4bc1-4911-830e-657766622e76",
   "metadata": {},
   "source": [
    "## Corrida en secuencial"
   ]
  },
  {
   "cell_type": "code",
   "execution_count": null,
   "id": "16d95d1a-1f9b-4d61-ad2f-0218f77d384c",
   "metadata": {},
   "outputs": [],
   "source": [
    "start_time = time.perf_counter()\n",
    "evaluate_set(hyperparameters)\n",
    "finish_time = time.perf_counter()\n",
    "print(f\"Program finished in {finish_time-start_time} seconds\")"
   ]
  },
  {
   "cell_type": "markdown",
   "id": "79833aaa-9e29-4e16-8911-816d6e802854",
   "metadata": {},
   "source": [
    "## Corrida en paralelo"
   ]
  },
  {
   "cell_type": "code",
   "execution_count": 10,
   "id": "76f388d5-506b-4637-956c-937839b10411",
   "metadata": {},
   "outputs": [],
   "source": [
    "def evaluate_hyperparameters(trees, criterion):\n",
    "    \"\"\"\n",
    "    Evaluar los hiperparámetros de un random forest\n",
    "    Args:\n",
    "    trees: número de árboles en un random forest\n",
    "    criterion: criterio para paricionar el conjunto de datos\n",
    "    \"\"\"\n",
    "    clf=RandomForestClassifier(n_estimators=int(trees), criterion=criterion)\n",
    "    clf.fit(X_train, y_train)\n",
    "    y_pred=clf.predict(X_test)\n",
    "    #print(str(trees)+','+criterion+','+accuracy_score(y_test, y_pred))"
   ]
  },
  {
   "cell_type": "code",
   "execution_count": 11,
   "id": "8f6c98ab-f680-419c-b678-900c0f49ac0f",
   "metadata": {},
   "outputs": [],
   "source": [
    "def evaluate_set(hyperparameter_set):\n",
    "    \"\"\"\n",
    "    Evaluate a set of hyperparameters\n",
    "    Args:\n",
    "    hyperparameter_set: a list with the set of hyperparameters to be evaluated\n",
    "    \"\"\"\n",
    "    for s in hyperparameter_set:\n",
    "        evaluate_hyperparameters(s[0], s[1])  "
   ]
  },
  {
   "cell_type": "code",
   "execution_count": 12,
   "id": "9c64809f-a396-4200-9f23-9888d6e80378",
   "metadata": {},
   "outputs": [
    {
     "name": "stdout",
     "output_type": "stream",
     "text": [
      "Program finished in 48.80912922199968 seconds\n"
     ]
    }
   ],
   "source": [
    "# Now we will evaluated with more threads\n",
    "threads=[]\n",
    "N_THREADS=2\n",
    "splits=np.split(np.array(hyperparameters), N_THREADS)\n",
    "for i in range(N_THREADS):\n",
    "    threads.append(Process(target=evaluate_set, args=[splits[i]]))\n",
    "\n",
    "\n",
    "start_time = time.perf_counter()\n",
    "for thread in threads:\n",
    "    thread.start()\n",
    "    \n",
    "for thread in threads:\n",
    "    thread.join()\n",
    "            \n",
    "finish_time = time.perf_counter()\n",
    "print(f\"Program finished in {finish_time-start_time} seconds\")"
   ]
  },
  {
   "cell_type": "markdown",
   "id": "6816c0cd-3911-45ae-8aac-b87c8d83324f",
   "metadata": {},
   "source": [
    "## Implementación con exclusión mutua"
   ]
  },
  {
   "cell_type": "code",
   "execution_count": 13,
   "id": "41dea786-6c10-43eb-8740-e015266391b7",
   "metadata": {},
   "outputs": [],
   "source": [
    "def evaluate_hyperparameters(contador, lock):\n",
    "    \"\"\"\n",
    "    Evaluar los hiperparámetros de un random forest\n",
    "    \"\"\"\n",
    "    # 7 lineas de código\n",
    "    while(len(hyperparameters)>contador.value):\n",
    "        with contador.get_lock():\n",
    "            elemento=contador.value\n",
    "            contador.value+=1\n",
    "        \n",
    "        clf=RandomForestClassifier(n_estimators=hyperparameters[elemento][0], \n",
    "                                   criterion=hyperparameters[elemento][1] )\n",
    "        clf.fit(X_train, y_train)\n",
    "        y_pred=clf.predict(X_test)\n",
    "        #with lock:\n",
    "        #    print(str(hyperparameters[elemento][0])+','+hyperparameters[elemento][1]+','+str(accuracy_score(y_test, y_pred)))"
   ]
  },
  {
   "cell_type": "code",
   "execution_count": 14,
   "id": "d6b2f4af-4880-404b-83e6-1abe2dba9ae3",
   "metadata": {},
   "outputs": [
    {
     "name": "stdout",
     "output_type": "stream",
     "text": [
      "Program finished in 36.945823410998855 seconds\n"
     ]
    }
   ],
   "source": [
    "# Now we will evaluated with more threads\n",
    "threads=[]\n",
    "N_THREADS=2\n",
    "\n",
    "contador=Value('i',0)\n",
    "lock = Lock()\n",
    "\n",
    "for i in range(N_THREADS):\n",
    "    threads.append(Process(target=evaluate_hyperparameters, args=[contador, lock]))\n",
    "\n",
    "\n",
    "start_time = time.perf_counter()\n",
    "for thread in threads:\n",
    "    thread.start()\n",
    "    \n",
    "for thread in threads:\n",
    "    thread.join()\n",
    "            \n",
    "finish_time = time.perf_counter()\n",
    "print(f\"Program finished in {finish_time-start_time} seconds\")"
   ]
  },
  {
   "cell_type": "code",
   "execution_count": 15,
   "id": "51fbbcc6-a945-49bf-ab6f-f0ca88511a2d",
   "metadata": {},
   "outputs": [
    {
     "name": "stdout",
     "output_type": "stream",
     "text": [
      "Program finished in 72.78811879400018 seconds\n",
      "Program finished in 48.71241386700058 seconds\n",
      "Program finished in 36.63850077300049 seconds\n",
      "Program finished in 34.59362515799876 seconds\n"
     ]
    },
    {
     "data": {
      "text/plain": [
       "[<matplotlib.lines.Line2D at 0x7f42ea6dd4c0>]"
      ]
     },
     "execution_count": 15,
     "metadata": {},
     "output_type": "execute_result"
    },
    {
     "data": {
      "image/png": "[encoded data removed]",
      "text/plain": [
       "<Figure size 432x288 with 1 Axes>"
      ]
     },
     "metadata": {
      "needs_background": "light"
     },
     "output_type": "display_data"
    }
   ],
   "source": [
    "times=[]\n",
    "for i in range(cores):\n",
    "    threads=[]\n",
    "    N_THREADS=i+1\n",
    "\n",
    "    contador=Value('i',0)\n",
    "    lock = Lock()\n",
    "\n",
    "    for i in range(N_THREADS):\n",
    "        threads.append(Process(target=evaluate_hyperparameters, args=[contador, lock]))\n",
    "\n",
    "\n",
    "    start_time = time.perf_counter()\n",
    "    for thread in threads:\n",
    "        thread.start()\n",
    "\n",
    "    for thread in threads:\n",
    "        thread.join()\n",
    "\n",
    "    finish_time = time.perf_counter()\n",
    "    print(f\"Program finished in {finish_time-start_time} seconds\")\n",
    "    times.append(finish_time-start_time)\n",
    "plt.ylabel('Time (s)')\n",
    "plt.xlabel('Number of cores')\n",
    "plt.ylim(0.0, max(times)+10)\n",
    "plt.plot(times)"
   ]
  },
  {
   "cell_type": "code",
   "execution_count": null,
   "id": "32aff0a2-09e4-4378-9b70-6c335172aa75",
   "metadata": {},
   "outputs": [],
   "source": []
  }
 ],
 "metadata": {
  "kernelspec": {
   "display_name": "Python 3 (ipykernel)",
   "language": "python",
   "name": "python3"
  },
  "language_info": {
   "codemirror_mode": {
    "name": "ipython",
    "version": 3
   },
   "file_extension": ".py",
   "mimetype": "text/x-python",
   "name": "python",
   "nbconvert_exporter": "python",
   "pygments_lexer": "ipython3",
   "version": "3.9.5"
  }
 },
 "nbformat": 4,
 "nbformat_minor": 5
}
