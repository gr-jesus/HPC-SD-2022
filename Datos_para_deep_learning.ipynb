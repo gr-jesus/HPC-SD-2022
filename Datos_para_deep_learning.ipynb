{
 "cells": [
  {
   "cell_type": "markdown",
   "id": "ae16f1e5-6604-45b5-852b-cfec8337dfe8",
   "metadata": {},
   "source": [
    "## Paralelización de la preparaición de datos para un modelo profundo\n",
    "\n",
    "En este programa se va implementar la preparación paralela de datos para dar como entrada a un algoritmo de aprendizaje profundo, en este caso se realizará un cambio de tamaño en la imagen"
   ]
  },
  {
   "cell_type": "code",
   "execution_count": 1,
   "id": "73c472cb-0eba-43e2-af64-b778da38190a",
   "metadata": {},
   "outputs": [],
   "source": [
    "from multiprocessing import Value, Lock, Array, Lock, Process, cpu_count\n",
    "import os\n",
    "import cv2\n",
    "import numpy as np\n",
    "import time\n",
    "import matplotlib.pyplot as plt"
   ]
  },
  {
   "cell_type": "code",
   "execution_count": 2,
   "id": "c2f00539-ea5b-48d2-997d-d6387bc54805",
   "metadata": {},
   "outputs": [
    {
     "name": "stdout",
     "output_type": "stream",
     "text": [
      "Cores en la computadora: 4\n"
     ]
    }
   ],
   "source": [
    "# Imprimir cuántos cores tiene la computadora\n",
    "cores = cpu_count()\n",
    "print('Cores en la computadora:', cores)"
   ]
  },
  {
   "cell_type": "code",
   "execution_count": 3,
   "id": "8765ea4c-e4e7-4999-b92d-adba887a7ac9",
   "metadata": {},
   "outputs": [],
   "source": [
    "\n",
    "def load_data(dataset):\n",
    "    raw=[]\n",
    "    Y=[]\n",
    "    y=0\n",
    "    for folder in [x[0] for x in os.walk(dataset)][1:]:\n",
    "        for image_name in next(os.walk(folder), (None, None, []))[2][:100]:\n",
    "            raw.append(cv2.imread(folder+'/'+image_name))\n",
    "            Y.append(y)\n",
    "        y+=1\n",
    "    return raw, Y"
   ]
  },
  {
   "cell_type": "code",
   "execution_count": 4,
   "id": "e8eda13e-40b4-4b07-8216-db95c11e98d3",
   "metadata": {},
   "outputs": [],
   "source": [
    "X, y = load_data('/media/jesus/DATA/Datasets/COVID/Kaggle/')"
   ]
  },
  {
   "cell_type": "code",
   "execution_count": 5,
   "id": "e253d932-e6d6-48f5-a883-13b0afa79bc3",
   "metadata": {},
   "outputs": [],
   "source": [
    "def resize_images(contador, lock):\n",
    "    while(len(X)>contador.value):\n",
    "        with contador.get_lock():\n",
    "            elemento=contador.value\n",
    "            contador.value+=1\n",
    "        #print(X[elemento].shape)\n",
    "        cv2.resize(X[elemento], (224,224), interpolation = cv2.INTER_AREA)\n",
    "        "
   ]
  },
  {
   "cell_type": "code",
   "execution_count": 6,
   "id": "f8d3de0e-2917-4e01-9316-4d518f0f3aa7",
   "metadata": {},
   "outputs": [
    {
     "name": "stdout",
     "output_type": "stream",
     "text": [
      "Program finished in 1.928216042000713 seconds\n",
      "Program finished in 1.3309367149995524 seconds\n",
      "Program finished in 1.1049006730008841 seconds\n",
      "Program finished in 0.9783716380006808 seconds\n"
     ]
    }
   ],
   "source": [
    "times=[]\n",
    "for i in range(cores):\n",
    "    threads=[]\n",
    "    N_THREADS=i+1\n",
    "\n",
    "    contador=Value('i',0)\n",
    "    lock = Lock()\n",
    "\n",
    "    for i in range(N_THREADS):\n",
    "        threads.append(Process(target=resize_images, args=[contador, lock]))\n",
    "\n",
    "\n",
    "    start_time = time.perf_counter()\n",
    "    for thread in threads:\n",
    "        thread.start()\n",
    "\n",
    "    for thread in threads:\n",
    "        thread.join()\n",
    "\n",
    "    finish_time = time.perf_counter()\n",
    "    print(f\"Program finished in {finish_time-start_time} seconds\")\n",
    "    times.append(finish_time-start_time)"
   ]
  },
  {
   "cell_type": "code",
   "execution_count": null,
   "id": "3f0ea2df-1efc-454a-968c-36e4f868d188",
   "metadata": {},
   "outputs": [],
   "source": []
  }
 ],
 "metadata": {
  "kernelspec": {
   "display_name": "Python 3 (ipykernel)",
   "language": "python",
   "name": "python3"
  },
  "language_info": {
   "codemirror_mode": {
    "name": "ipython",
    "version": 3
   },
   "file_extension": ".py",
   "mimetype": "text/x-python",
   "name": "python",
   "nbconvert_exporter": "python",
   "pygments_lexer": "ipython3",
   "version": "3.9.5"
  }
 },
 "nbformat": 4,
 "nbformat_minor": 5
}
