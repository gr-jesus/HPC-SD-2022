{
  "nbformat": 4,
  "nbformat_minor": 0,
  "metadata": {
    "colab": {
      "provenance": []
    },
    "kernelspec": {
      "name": "python3",
      "display_name": "Python 3"
    },
    "language_info": {
      "name": "python"
    }
  },
  "cells": [
    {
      "cell_type": "code",
      "execution_count": null,
      "metadata": {
        "id": "i0llTMLcgEZ7"
      },
      "outputs": [],
      "source": [
        "import numpy as np\n",
        "from tensorflow import keras\n",
        "from tensorflow.keras import layers"
      ]
    },
    {
      "cell_type": "code",
      "source": [
        "# Preparar los datos (secuencial)\n",
        "# código de: https://keras.io/examples/vision/mnist_convnet/\n",
        "\n",
        "# Model / data parameters\n",
        "num_classes = 10\n",
        "input_shape = (28, 28, 1)\n",
        "\n",
        "# Load the data and split it between train and test sets\n",
        "(x_train, y_train), (x_test, y_test) = keras.datasets.mnist.load_data()\n",
        "\n",
        "# Scale images to the [0, 1] range\n",
        "x_train = x_train.astype(\"float32\") / 255\n",
        "x_test = x_test.astype(\"float32\") / 255\n",
        "print(x_train.shape)\n",
        "# Make sure images have shape (28, 28, 1)\n",
        "x_train = np.expand_dims(x_train, -1)\n",
        "x_test = np.expand_dims(x_test, -1)\n",
        "print(x_train.shape)\n",
        "print(\"x_train shape:\", x_train.shape)\n",
        "print(x_train.shape[0], \"train samples\")\n",
        "print(x_test.shape[0], \"test samples\")\n",
        "\n",
        "\n",
        "# convert class vectors to binary class matrices\n",
        "y_train = keras.utils.to_categorical(y_train, num_classes)\n",
        "y_test = keras.utils.to_categorical(y_test, num_classes)\n"
      ],
      "metadata": {
        "colab": {
          "base_uri": "https://localhost:8080/"
        },
        "id": "i2ov3JwdjDvV",
        "outputId": "83b09c1a-ff61-42a6-9f50-dd7b0ba9b5ad"
      },
      "execution_count": null,
      "outputs": [
        {
          "output_type": "stream",
          "name": "stdout",
          "text": [
            "(60000, 28, 28)\n",
            "(60000, 28, 28, 1)\n",
            "x_train shape: (60000, 28, 28, 1)\n",
            "60000 train samples\n",
            "10000 test samples\n"
          ]
        }
      ]
    },
    {
      "cell_type": "code",
      "source": [
        "# Se crea el modelo\n",
        "model = keras.Sequential(\n",
        "    [\n",
        "        keras.Input(shape=input_shape),\n",
        "        layers.Conv2D(32, kernel_size=(3, 3), activation=\"relu\"),\n",
        "        layers.MaxPooling2D(pool_size=(2, 2)),\n",
        "        layers.Conv2D(64, kernel_size=(3, 3), activation=\"relu\"),\n",
        "        layers.MaxPooling2D(pool_size=(2, 2)),\n",
        "        layers.Flatten(),\n",
        "        layers.Dropout(0.5),\n",
        "        layers.Dense(num_classes, activation=\"softmax\"),\n",
        "    ]\n",
        ")\n",
        "\n",
        "model.summary()\n"
      ],
      "metadata": {
        "colab": {
          "base_uri": "https://localhost:8080/"
        },
        "id": "XAvlI9-AjRW8",
        "outputId": "a01cd284-cbd0-414a-d4ea-8f9a12857668"
      },
      "execution_count": null,
      "outputs": [
        {
          "output_type": "stream",
          "name": "stdout",
          "text": [
            "Model: \"sequential\"\n",
            "_________________________________________________________________\n",
            " Layer (type)                Output Shape              Param #   \n",
            "=================================================================\n",
            " conv2d (Conv2D)             (None, 26, 26, 32)        320       \n",
            "                                                                 \n",
            " max_pooling2d (MaxPooling2D  (None, 13, 13, 32)       0         \n",
            " )                                                               \n",
            "                                                                 \n",
            " conv2d_1 (Conv2D)           (None, 11, 11, 64)        18496     \n",
            "                                                                 \n",
            " max_pooling2d_1 (MaxPooling  (None, 5, 5, 64)         0         \n",
            " 2D)                                                             \n",
            "                                                                 \n",
            " flatten (Flatten)           (None, 1600)              0         \n",
            "                                                                 \n",
            " dropout (Dropout)           (None, 1600)              0         \n",
            "                                                                 \n",
            " dense (Dense)               (None, 10)                16010     \n",
            "                                                                 \n",
            "=================================================================\n",
            "Total params: 34,826\n",
            "Trainable params: 34,826\n",
            "Non-trainable params: 0\n",
            "_________________________________________________________________\n"
          ]
        }
      ]
    },
    {
      "cell_type": "code",
      "source": [
        "# Se entrena el modelo\n",
        "batch_size = 128\n",
        "epochs = 15\n",
        "\n",
        "model.compile(loss=\"categorical_crossentropy\", optimizer=\"adam\", metrics=[\"accuracy\"])\n",
        "\n",
        "model.fit(x_train, y_train, batch_size=batch_size, epochs=epochs, validation_split=0.1)\n"
      ],
      "metadata": {
        "colab": {
          "base_uri": "https://localhost:8080/"
        },
        "id": "ESx-MVWrjXTv",
        "outputId": "2b5153d7-6cf6-4bfb-d12e-822aaff4b0d1"
      },
      "execution_count": null,
      "outputs": [
        {
          "output_type": "stream",
          "name": "stdout",
          "text": [
            "Epoch 1/15\n",
            "422/422 [==============================] - 46s 108ms/step - loss: 0.3723 - accuracy: 0.8856 - val_loss: 0.0809 - val_accuracy: 0.9782\n",
            "Epoch 2/15\n",
            "422/422 [==============================] - 44s 104ms/step - loss: 0.1109 - accuracy: 0.9660 - val_loss: 0.0548 - val_accuracy: 0.9855\n",
            "Epoch 3/15\n",
            "422/422 [==============================] - 44s 104ms/step - loss: 0.0823 - accuracy: 0.9753 - val_loss: 0.0465 - val_accuracy: 0.9870\n",
            "Epoch 4/15\n",
            "422/422 [==============================] - 44s 104ms/step - loss: 0.0689 - accuracy: 0.9787 - val_loss: 0.0432 - val_accuracy: 0.9880\n",
            "Epoch 5/15\n",
            "422/422 [==============================] - 45s 107ms/step - loss: 0.0610 - accuracy: 0.9810 - val_loss: 0.0403 - val_accuracy: 0.9893\n",
            "Epoch 6/15\n",
            "422/422 [==============================] - 44s 104ms/step - loss: 0.0565 - accuracy: 0.9825 - val_loss: 0.0416 - val_accuracy: 0.9888\n",
            "Epoch 7/15\n",
            "422/422 [==============================] - 44s 104ms/step - loss: 0.0509 - accuracy: 0.9843 - val_loss: 0.0348 - val_accuracy: 0.9890\n",
            "Epoch 8/15\n",
            "422/422 [==============================] - 45s 107ms/step - loss: 0.0446 - accuracy: 0.9864 - val_loss: 0.0309 - val_accuracy: 0.9918\n",
            "Epoch 9/15\n",
            "422/422 [==============================] - 44s 104ms/step - loss: 0.0438 - accuracy: 0.9864 - val_loss: 0.0327 - val_accuracy: 0.9913\n",
            "Epoch 10/15\n",
            "422/422 [==============================] - 44s 104ms/step - loss: 0.0396 - accuracy: 0.9872 - val_loss: 0.0317 - val_accuracy: 0.9908\n",
            "Epoch 11/15\n",
            "422/422 [==============================] - 44s 104ms/step - loss: 0.0386 - accuracy: 0.9878 - val_loss: 0.0297 - val_accuracy: 0.9917\n",
            "Epoch 12/15\n",
            "422/422 [==============================] - 45s 107ms/step - loss: 0.0361 - accuracy: 0.9883 - val_loss: 0.0322 - val_accuracy: 0.9918\n",
            "Epoch 13/15\n",
            "422/422 [==============================] - 44s 104ms/step - loss: 0.0354 - accuracy: 0.9885 - val_loss: 0.0293 - val_accuracy: 0.9927\n",
            "Epoch 14/15\n",
            "422/422 [==============================] - 44s 104ms/step - loss: 0.0340 - accuracy: 0.9890 - val_loss: 0.0302 - val_accuracy: 0.9920\n",
            "Epoch 15/15\n",
            "422/422 [==============================] - 46s 108ms/step - loss: 0.0324 - accuracy: 0.9895 - val_loss: 0.0313 - val_accuracy: 0.9908\n"
          ]
        },
        {
          "output_type": "execute_result",
          "data": {
            "text/plain": [
              "<keras.callbacks.History at 0x7fe4a644aa10>"
            ]
          },
          "metadata": {},
          "execution_count": 6
        }
      ]
    },
    {
      "cell_type": "code",
      "source": [
        "# Evaluación del modelo\n",
        "score = model.evaluate(x_test, y_test, verbose=0)\n",
        "print(\"Test loss:\", score[0])\n",
        "print(\"Test accuracy:\", score[1])\n"
      ],
      "metadata": {
        "colab": {
          "base_uri": "https://localhost:8080/"
        },
        "id": "X_y9sEC5jdHu",
        "outputId": "b6bf1d24-51a5-46fd-eab9-9f7010f62f9c"
      },
      "execution_count": null,
      "outputs": [
        {
          "output_type": "stream",
          "name": "stdout",
          "text": [
            "Test loss: 0.02897271141409874\n",
            "Test accuracy: 0.989799976348877\n"
          ]
        }
      ]
    }
  ]
}