{
  "nbformat": 4,
  "nbformat_minor": 0,
  "metadata": {
    "colab": {
      "provenance": []
    },
    "kernelspec": {
      "name": "python3",
      "display_name": "Python 3"
    },
    "language_info": {
      "name": "python"
    },
    "accelerator": "GPU",
    "gpuClass": "standard"
  },
  "cells": [
    {
      "cell_type": "code",
      "execution_count": null,
      "metadata": {
        "colab": {
          "base_uri": "https://localhost:8080/"
        },
        "id": "GN3XBytFZ0_R",
        "outputId": "50b16251-f486-4415-a11c-fbc1fab69d5c"
      },
      "outputs": [
        {
          "output_type": "stream",
          "name": "stdout",
          "text": [
            "Sat Oct 29 19:49:07 2022       \n",
            "+-----------------------------------------------------------------------------+\n",
            "| NVIDIA-SMI 460.32.03    Driver Version: 460.32.03    CUDA Version: 11.2     |\n",
            "|-------------------------------+----------------------+----------------------+\n",
            "| GPU  Name        Persistence-M| Bus-Id        Disp.A | Volatile Uncorr. ECC |\n",
            "| Fan  Temp  Perf  Pwr:Usage/Cap|         Memory-Usage | GPU-Util  Compute M. |\n",
            "|                               |                      |               MIG M. |\n",
            "|===============================+======================+======================|\n",
            "|   0  Tesla T4            Off  | 00000000:00:04.0 Off |                    0 |\n",
            "| N/A   58C    P8    10W /  70W |      0MiB / 15109MiB |      0%      Default |\n",
            "|                               |                      |                  N/A |\n",
            "+-------------------------------+----------------------+----------------------+\n",
            "                                                                               \n",
            "+-----------------------------------------------------------------------------+\n",
            "| Processes:                                                                  |\n",
            "|  GPU   GI   CI        PID   Type   Process name                  GPU Memory |\n",
            "|        ID   ID                                                   Usage      |\n",
            "|=============================================================================|\n",
            "|  No running processes found                                                 |\n",
            "+-----------------------------------------------------------------------------+\n"
          ]
        }
      ],
      "source": [
        "!nvidia-smi"
      ]
    },
    {
      "cell_type": "code",
      "source": [
        "import numpy as np"
      ],
      "metadata": {
        "id": "nGgmroFtaljj"
      },
      "execution_count": null,
      "outputs": []
    },
    {
      "cell_type": "code",
      "source": [
        "# Se crea un arreglo para determinar el tiempo de ejecución en secuelcial y paralelo\n",
        "# Se crea un arreglo de 100 pseudomágenes de dimensión (512x512)\n",
        "simulated_dataset = np.random.randint(0, 255, size=(1000, 512, 512))"
      ],
      "metadata": {
        "id": "Ymw5G_QGZ8N5"
      },
      "execution_count": null,
      "outputs": []
    },
    {
      "cell_type": "code",
      "source": [
        "from scipy.ndimage import gaussian_filter\n",
        "# Implementación en secuencial\n",
        "def filtro_secuencial(dataset):\n",
        "  cpu_dataset=[]\n",
        "  for image in dataset:\n",
        "    cpu_dataset.append(gaussian_filter(image, sigma=5))\n",
        "  return cpu_dataset"
      ],
      "metadata": {
        "id": "dkd98FQ7bQ17"
      },
      "execution_count": null,
      "outputs": []
    },
    {
      "cell_type": "code",
      "source": [
        "%%timeit\n",
        "filtro_secuencial(simulated_dataset)"
      ],
      "metadata": {
        "colab": {
          "base_uri": "https://localhost:8080/"
        },
        "id": "OfklaJKrcSkD",
        "outputId": "ff5ecc91-a024-4b21-aee2-53ba84f3a024"
      },
      "execution_count": null,
      "outputs": [
        {
          "output_type": "stream",
          "name": "stdout",
          "text": [
            "15.6 s ± 326 ms per loop (mean ± std. dev. of 7 runs, 1 loop each)\n"
          ]
        }
      ]
    },
    {
      "cell_type": "code",
      "source": [
        "from cupyx.scipy.ndimage import gaussian_filter as gaussian_gpu\n",
        "import cupy as cp\n",
        "# Implementación en GPU\n",
        "def filtro_GPU(dataset):\n",
        "  gpu_dataset = cp.asarray(dataset)\n",
        "  cpu_dataset = []\n",
        "  for image in gpu_dataset:\n",
        "    tmp = gaussian_gpu(image, sigma=5)\n",
        "    cpu_dataset.append(cp.asnumpy(tmp))\n",
        "  return cpu_dataset\n"
      ],
      "metadata": {
        "id": "Rdp8vgJ5c0ea"
      },
      "execution_count": null,
      "outputs": []
    },
    {
      "cell_type": "code",
      "source": [
        "%%timeit\n",
        "filtro_gpu = filtro_GPU(simulated_dataset)"
      ],
      "metadata": {
        "colab": {
          "base_uri": "https://localhost:8080/"
        },
        "id": "Z7eWG9XledmY",
        "outputId": "e64785e0-e086-4039-b9e5-1f7ae042042f"
      },
      "execution_count": null,
      "outputs": [
        {
          "output_type": "stream",
          "name": "stdout",
          "text": [
            "2.23 s ± 16.8 ms per loop (mean ± std. dev. of 7 runs, 1 loop each)\n"
          ]
        }
      ]
    }
  ]
}